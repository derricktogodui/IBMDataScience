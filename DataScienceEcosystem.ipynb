{
 "cells": [
  {
   "cell_type": "markdown",
   "id": "ceb1510d-5a25-4543-9eba-558f73a10e55",
   "metadata": {},
   "source": [
    "# Data Science Tools and Ecosystem"
   ]
  },
  {
   "cell_type": "markdown",
   "id": "16602ab1-5c85-4030-af21-64216f21aabe",
   "metadata": {},
   "source": [
    "## In this notebook, Data Science Tools and Ecosystem are summarized."
   ]
  },
  {
   "cell_type": "markdown",
   "id": "244889da-87cd-4e9d-91e2-9720d23a3950",
   "metadata": {},
   "source": [
    "**Objectives:**\n",
    "* Popular languages Data Scientists use\n",
    "* Data Science commonly used libraries\n",
    "* Data Science tools"
   ]
  },
  {
   "cell_type": "markdown",
   "id": "81122722-8bac-456e-8571-46a035dff303",
   "metadata": {},
   "source": [
    "### Some of the popular languages that Data Scientists use are:\n",
    "1. Python\n",
    "2. R\n",
    "3. Julia\n",
    "4. SQL"
   ]
  },
  {
   "cell_type": "markdown",
   "id": "97aca8c0-1f6a-4046-b9ca-b99d568aa997",
   "metadata": {},
   "source": [
    "### Some of the commonly used libraries used by Data Scientists include:\n",
    "1. Pandas\n",
    "2. Matplotlib\n",
    "3. TensorFlow\n",
    "4. NumPy\n",
    "5. Scikit-learn\n",
    "6. SciPy\n",
    "7. PyTorch"
   ]
  },
  {
   "cell_type": "markdown",
   "id": "8fecf0cc-6b2e-4c63-8e71-571c7f565992",
   "metadata": {},
   "source": [
    "| Data Science Tools|\n",
    "---------------------\n",
    "| RStudio |\n",
    "| Apache Spark|\n",
    "| Apache Hadoop |\n"
   ]
  },
  {
   "cell_type": "markdown",
   "id": "27243f6d-6d2d-4975-a71a-556e399f95d3",
   "metadata": {},
   "source": [
    "### Below are a few examples of evaluating arithmetic expressions in Python"
   ]
  },
  {
   "cell_type": "code",
   "execution_count": 1,
   "id": "937dae46-eef8-4525-a5c7-5367d39630b5",
   "metadata": {
    "tags": []
   },
   "outputs": [
    {
     "data": {
      "text/plain": [
       "17"
      ]
     },
     "execution_count": 1,
     "metadata": {},
     "output_type": "execute_result"
    }
   ],
   "source": [
    "# This a simple arithmetic expression to mutiply then add integers\n",
    "(3*4)+5"
   ]
  },
  {
   "cell_type": "code",
   "execution_count": 2,
   "id": "e2414ae2-edcc-4669-9023-3e76465ca977",
   "metadata": {
    "tags": []
   },
   "outputs": [
    {
     "name": "stdout",
     "output_type": "stream",
     "text": [
      "200 minutes is equal to 3.3333333333333335 hours\n"
     ]
    }
   ],
   "source": [
    "# This will convert 200 minutes to hours by diving by 60\n",
    "minutes = 200\n",
    "hours = minutes / 60\n",
    "\n",
    "print(f\"{minutes} minutes is equal to {hours} hours\")"
   ]
  },
  {
   "cell_type": "markdown",
   "id": "d79249fc-fa24-4a24-baf4-bbbab42e84ab",
   "metadata": {},
   "source": [
    "## Author\n",
    "Derrick K. Togodui"
   ]
  },
  {
   "cell_type": "code",
   "execution_count": null,
   "id": "a983e201-8624-4a71-a4c3-7820eadbe135",
   "metadata": {},
   "outputs": [],
   "source": []
  }
 ],
 "metadata": {
  "kernelspec": {
   "display_name": "Python",
   "language": "python",
   "name": "conda-env-python-py"
  },
  "language_info": {
   "codemirror_mode": {
    "name": "ipython",
    "version": 3
   },
   "file_extension": ".py",
   "mimetype": "text/x-python",
   "name": "python",
   "nbconvert_exporter": "python",
   "pygments_lexer": "ipython3",
   "version": "3.7.12"
  }
 },
 "nbformat": 4,
 "nbformat_minor": 5
}
